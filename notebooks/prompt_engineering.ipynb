{
 "cells": [
  {
   "cell_type": "markdown",
   "id": "aaae046f-85ec-4382-9da2-4586548b49fb",
   "metadata": {},
   "source": [
    "# Prompt Engineering with OCI Generative AI"
   ]
  },
  {
   "cell_type": "markdown",
   "id": "bc2776df-dd1a-4c15-a8e0-3f6c041b499e",
   "metadata": {},
   "source": [
    "_Prompt Engineering_ is the iterative process of crafting specific requests in natural language to instruct large language models (LLMs) to perform a task. Based on the exact language used, the prompt engineer can guide the LLM to provide better or different outputs.\n",
    "\n",
    "There are different types of prompts:\n",
    "* **In-context learning**: conditioning an LLM with instructions and or demonstrations of the task it is meant to complete\n",
    "* **k-shot prompting**: explicitly providing k examples of the intended taks in the prompt"
   ]
  },
  {
   "cell_type": "markdown",
   "id": "0d81a053-3a41-4ab4-9cdf-ec94e287537a",
   "metadata": {},
   "source": [
    "## Setting up the Environment"
   ]
  },
  {
   "cell_type": "markdown",
   "id": "ea28617c-6991-41e1-82f1-ea69a068d432",
   "metadata": {},
   "source": [
    "### Install Python Packages"
   ]
  },
  {
   "cell_type": "markdown",
   "id": "7729b8ac-53f1-4ba1-895a-5ff44c2277ce",
   "metadata": {},
   "source": [
    "The execution of this notebook depends on the availability of different Python packages"
   ]
  },
  {
   "cell_type": "code",
   "execution_count": 2,
   "id": "37b02511-eed9-4ac8-a84c-25702bd10b6b",
   "metadata": {},
   "outputs": [
    {
     "name": "stdout",
     "output_type": "stream",
     "text": [
      "Collecting oci\n",
      "  Downloading oci-2.128.1-py3-none-any.whl.metadata (5.2 kB)\n",
      "Collecting python-dotenv\n",
      "  Downloading python_dotenv-1.0.1-py3-none-any.whl.metadata (23 kB)\n",
      "Requirement already satisfied: certifi in /home/codespace/.local/lib/python3.10/site-packages (from oci) (2024.2.2)\n",
      "Requirement already satisfied: cryptography<43.0.0,>=3.2.1 in /usr/local/python/3.10.13/lib/python3.10/site-packages (from oci) (42.0.8)\n",
      "Collecting pyOpenSSL<25.0.0,>=17.5.0 (from oci)\n",
      "  Downloading pyOpenSSL-24.1.0-py3-none-any.whl.metadata (12 kB)\n",
      "Requirement already satisfied: python-dateutil<3.0.0,>=2.5.3 in /home/codespace/.local/lib/python3.10/site-packages (from oci) (2.9.0.post0)\n",
      "Requirement already satisfied: pytz>=2016.10 in /home/codespace/.local/lib/python3.10/site-packages (from oci) (2024.1)\n",
      "Collecting circuitbreaker<2.0.0,>=1.3.1 (from oci)\n",
      "  Downloading circuitbreaker-1.4.0.tar.gz (9.7 kB)\n",
      "  Installing build dependencies ... \u001b[?25ldone\n",
      "\u001b[?25h  Getting requirements to build wheel ... \u001b[?25ldone\n",
      "\u001b[?25h  Installing backend dependencies ... \u001b[?25ldone\n",
      "\u001b[?25h  Preparing metadata (pyproject.toml) ... \u001b[?25ldone\n",
      "\u001b[?25hRequirement already satisfied: cffi>=1.12 in /home/codespace/.local/lib/python3.10/site-packages (from cryptography<43.0.0,>=3.2.1->oci) (1.16.0)\n",
      "Requirement already satisfied: six>=1.5 in /home/codespace/.local/lib/python3.10/site-packages (from python-dateutil<3.0.0,>=2.5.3->oci) (1.16.0)\n",
      "Requirement already satisfied: pycparser in /home/codespace/.local/lib/python3.10/site-packages (from cffi>=1.12->cryptography<43.0.0,>=3.2.1->oci) (2.22)\n",
      "Downloading oci-2.128.1-py3-none-any.whl (26.6 MB)\n",
      "\u001b[2K   \u001b[90m━━━━━━━━━━━━━━━━━━━━━━━━━━━━━━━━━━━━━━━━\u001b[0m \u001b[32m26.6/26.6 MB\u001b[0m \u001b[31m37.2 MB/s\u001b[0m eta \u001b[36m0:00:00\u001b[0m:00:01\u001b[0m00:01\u001b[0m\n",
      "\u001b[?25hDownloading python_dotenv-1.0.1-py3-none-any.whl (19 kB)\n",
      "Downloading pyOpenSSL-24.1.0-py3-none-any.whl (56 kB)\n",
      "\u001b[2K   \u001b[90m━━━━━━━━━━━━━━━━━━━━━━━━━━━━━━━━━━━━━━━━\u001b[0m \u001b[32m56.9/56.9 kB\u001b[0m \u001b[31m1.8 MB/s\u001b[0m eta \u001b[36m0:00:00\u001b[0m\n",
      "\u001b[?25hBuilding wheels for collected packages: circuitbreaker\n",
      "  Building wheel for circuitbreaker (pyproject.toml) ... \u001b[?25ldone\n",
      "\u001b[?25h  Created wheel for circuitbreaker: filename=circuitbreaker-1.4.0-py3-none-any.whl size=7520 sha256=09496cde3f3b3eb84f573a5c694b3dc94b334ab04e273791e5be7edeb7a633d5\n",
      "  Stored in directory: /home/codespace/.cache/pip/wheels/3c/be/64/266b6ce2ef1130de5e419f04805acbb2df5a4ab1b91348f25b\n",
      "Successfully built circuitbreaker\n",
      "Installing collected packages: circuitbreaker, python-dotenv, pyOpenSSL, oci\n",
      "Successfully installed circuitbreaker-1.4.0 oci-2.128.1 pyOpenSSL-24.1.0 python-dotenv-1.0.1\n",
      "Note: you may need to restart the kernel to use updated packages.\n"
     ]
    }
   ],
   "source": [
    "pip install oci python-dotenv"
   ]
  },
  {
   "cell_type": "markdown",
   "id": "c5bf07b9-7128-419b-b41b-c0fe27b05954",
   "metadata": {},
   "source": [
    "### Import Dependencies & Environment Variables"
   ]
  },
  {
   "cell_type": "code",
   "execution_count": 4,
   "id": "1458fa0d-7413-4b31-bd2d-89203c5c2346",
   "metadata": {},
   "outputs": [
    {
     "data": {
      "text/plain": [
       "False"
      ]
     },
     "execution_count": 4,
     "metadata": {},
     "output_type": "execute_result"
    }
   ],
   "source": [
    "import os\n",
    "from dotenv import load_dotenv\n",
    "\n",
    "import oci\n",
    "\n",
    "load_dotenv()"
   ]
  },
  {
   "cell_type": "code",
   "execution_count": 5,
   "id": "61452fd3-d048-4daa-a2c7-82f69a08ba7b",
   "metadata": {},
   "outputs": [
    {
     "name": "stdout",
     "output_type": "stream",
     "text": [
      "None\n"
     ]
    }
   ],
   "source": [
    "print(os.getenv('OCI_ENDPOINT'))"
   ]
  },
  {
   "cell_type": "code",
   "execution_count": null,
   "id": "daa92e9c-9cb0-4721-b617-66018ff6e293",
   "metadata": {},
   "outputs": [],
   "source": []
  }
 ],
 "metadata": {
  "kernelspec": {
   "display_name": "Python 3 (ipykernel)",
   "language": "python",
   "name": "python3"
  },
  "language_info": {
   "codemirror_mode": {
    "name": "ipython",
    "version": 3
   },
   "file_extension": ".py",
   "mimetype": "text/x-python",
   "name": "python",
   "nbconvert_exporter": "python",
   "pygments_lexer": "ipython3",
   "version": "3.10.13"
  }
 },
 "nbformat": 4,
 "nbformat_minor": 5
}
