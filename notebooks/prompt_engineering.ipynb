{
 "cells": [
  {
   "cell_type": "markdown",
   "id": "aaae046f-85ec-4382-9da2-4586548b49fb",
   "metadata": {},
   "source": [
    "# Prompt Engineering with OCI Generative AI"
   ]
  },
  {
   "cell_type": "code",
   "execution_count": null,
   "id": "4b938981-16dc-488e-bb02-2cad7e8eef3e",
   "metadata": {},
   "outputs": [],
   "source": []
  }
 ],
 "metadata": {
  "kernelspec": {
   "display_name": "Python 3 (ipykernel)",
   "language": "python",
   "name": "python3"
  },
  "language_info": {
   "codemirror_mode": {
    "name": "ipython",
    "version": 3
   },
   "file_extension": ".py",
   "mimetype": "text/x-python",
   "name": "python",
   "nbconvert_exporter": "python",
   "pygments_lexer": "ipython3",
   "version": "3.10.13"
  }
 },
 "nbformat": 4,
 "nbformat_minor": 5
}
